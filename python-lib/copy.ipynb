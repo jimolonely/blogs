{
 "cells": [
  {
   "cell_type": "markdown",
   "metadata": {},
   "source": [
    "# copy 提供复制数据的函数"
   ]
  },
  {
   "cell_type": "code",
   "execution_count": 1,
   "metadata": {},
   "outputs": [
    {
     "name": "stdout",
     "output_type": "stream",
     "text": [
      "Help on module copy:\n",
      "\n",
      "NAME\n",
      "    copy - Generic (shallow and deep) copying operations.\n",
      "\n",
      "MODULE REFERENCE\n",
      "    https://docs.python.org/3.6/library/copy\n",
      "    \n",
      "    The following documentation is automatically generated from the Python\n",
      "    source files.  It may be incomplete, incorrect or include features that\n",
      "    are considered implementation detail and may vary between Python\n",
      "    implementations.  When in doubt, consult the module reference at the\n",
      "    location listed above.\n",
      "\n",
      "DESCRIPTION\n",
      "    Interface summary:\n",
      "    \n",
      "            import copy\n",
      "    \n",
      "            x = copy.copy(y)        # make a shallow copy of y\n",
      "            x = copy.deepcopy(y)    # make a deep copy of y\n",
      "    \n",
      "    For module specific errors, copy.Error is raised.\n",
      "    \n",
      "    The difference between shallow and deep copying is only relevant for\n",
      "    compound objects (objects that contain other objects, like lists or\n",
      "    class instances).\n",
      "    \n",
      "    - A shallow copy constructs a new compound object and then (to the\n",
      "      extent possible) inserts *the same objects* into it that the\n",
      "      original contains.\n",
      "    \n",
      "    - A deep copy constructs a new compound object and then, recursively,\n",
      "      inserts *copies* into it of the objects found in the original.\n",
      "    \n",
      "    Two problems often exist with deep copy operations that don't exist\n",
      "    with shallow copy operations:\n",
      "    \n",
      "     a) recursive objects (compound objects that, directly or indirectly,\n",
      "        contain a reference to themselves) may cause a recursive loop\n",
      "    \n",
      "     b) because deep copy copies *everything* it may copy too much, e.g.\n",
      "        administrative data structures that should be shared even between\n",
      "        copies\n",
      "    \n",
      "    Python's deep copy operation avoids these problems by:\n",
      "    \n",
      "     a) keeping a table of objects already copied during the current\n",
      "        copying pass\n",
      "    \n",
      "     b) letting user-defined classes override the copying operation or the\n",
      "        set of components copied\n",
      "    \n",
      "    This version does not copy types like module, class, function, method,\n",
      "    nor stack trace, stack frame, nor file, socket, window, nor array, nor\n",
      "    any similar types.\n",
      "    \n",
      "    Classes can use the same interfaces to control copying that they use\n",
      "    to control pickling: they can define methods called __getinitargs__(),\n",
      "    __getstate__() and __setstate__().  See the documentation for module\n",
      "    \"pickle\" for information on these methods.\n",
      "\n",
      "CLASSES\n",
      "    builtins.Exception(builtins.BaseException)\n",
      "        Error\n",
      "    \n",
      "    class Error(builtins.Exception)\n",
      "     |  Common base class for all non-exit exceptions.\n",
      "     |  \n",
      "     |  Method resolution order:\n",
      "     |      Error\n",
      "     |      builtins.Exception\n",
      "     |      builtins.BaseException\n",
      "     |      builtins.object\n",
      "     |  \n",
      "     |  Data descriptors defined here:\n",
      "     |  \n",
      "     |  __weakref__\n",
      "     |      list of weak references to the object (if defined)\n",
      "     |  \n",
      "     |  ----------------------------------------------------------------------\n",
      "     |  Methods inherited from builtins.Exception:\n",
      "     |  \n",
      "     |  __init__(self, /, *args, **kwargs)\n",
      "     |      Initialize self.  See help(type(self)) for accurate signature.\n",
      "     |  \n",
      "     |  __new__(*args, **kwargs) from builtins.type\n",
      "     |      Create and return a new object.  See help(type) for accurate signature.\n",
      "     |  \n",
      "     |  ----------------------------------------------------------------------\n",
      "     |  Methods inherited from builtins.BaseException:\n",
      "     |  \n",
      "     |  __delattr__(self, name, /)\n",
      "     |      Implement delattr(self, name).\n",
      "     |  \n",
      "     |  __getattribute__(self, name, /)\n",
      "     |      Return getattr(self, name).\n",
      "     |  \n",
      "     |  __reduce__(...)\n",
      "     |      helper for pickle\n",
      "     |  \n",
      "     |  __repr__(self, /)\n",
      "     |      Return repr(self).\n",
      "     |  \n",
      "     |  __setattr__(self, name, value, /)\n",
      "     |      Implement setattr(self, name, value).\n",
      "     |  \n",
      "     |  __setstate__(...)\n",
      "     |  \n",
      "     |  __str__(self, /)\n",
      "     |      Return str(self).\n",
      "     |  \n",
      "     |  with_traceback(...)\n",
      "     |      Exception.with_traceback(tb) --\n",
      "     |      set self.__traceback__ to tb and return self.\n",
      "     |  \n",
      "     |  ----------------------------------------------------------------------\n",
      "     |  Data descriptors inherited from builtins.BaseException:\n",
      "     |  \n",
      "     |  __cause__\n",
      "     |      exception cause\n",
      "     |  \n",
      "     |  __context__\n",
      "     |      exception context\n",
      "     |  \n",
      "     |  __dict__\n",
      "     |  \n",
      "     |  __suppress_context__\n",
      "     |  \n",
      "     |  __traceback__\n",
      "     |  \n",
      "     |  args\n",
      "\n",
      "FUNCTIONS\n",
      "    copy(x)\n",
      "        Shallow copy operation on arbitrary Python objects.\n",
      "        \n",
      "        See the module's __doc__ string for more info.\n",
      "    \n",
      "    deepcopy(x, memo=None, _nil=[])\n",
      "        Deep copy operation on arbitrary Python objects.\n",
      "        \n",
      "        See the module's __doc__ string for more info.\n",
      "\n",
      "DATA\n",
      "    __all__ = ['Error', 'copy', 'deepcopy']\n",
      "\n",
      "FILE\n",
      "    /usr/lib/python3.6/copy.py\n",
      "\n",
      "\n"
     ]
    }
   ],
   "source": [
    "import copy\n",
    "help(copy)"
   ]
  },
  {
   "cell_type": "markdown",
   "metadata": {},
   "source": [
    "# 1.浅复制"
   ]
  },
  {
   "cell_type": "code",
   "execution_count": 7,
   "metadata": {},
   "outputs": [
    {
     "name": "stdout",
     "output_type": "stream",
     "text": [
      "[1, 2, 3, 4]\n",
      "True\n"
     ]
    }
   ],
   "source": [
    "a = [1,2,3,4]\n",
    "a1 = copy.copy(a)\n",
    "print(a1)\n",
    "print(a1==a)"
   ]
  },
  {
   "cell_type": "code",
   "execution_count": 8,
   "metadata": {},
   "outputs": [
    {
     "name": "stdout",
     "output_type": "stream",
     "text": [
      "[1, 2, 3, 4, 5]\n",
      "[1, 2, 3, 4]\n",
      "False\n"
     ]
    }
   ],
   "source": [
    "a1.append(5)\n",
    "print(a1)\n",
    "print(a)\n",
    "print(a==a1)"
   ]
  },
  {
   "cell_type": "code",
   "execution_count": 14,
   "metadata": {},
   "outputs": [
    {
     "name": "stdout",
     "output_type": "stream",
     "text": [
      "[1, 2, 3, 4] a\n"
     ]
    }
   ],
   "source": [
    "class A:\n",
    "    def __init__(self,name,number):\n",
    "        self.name = name\n",
    "        self.number = number # list\n",
    "l = [1,2,3,4]\n",
    "a = A('a',l)\n",
    "print(a.number,a.name)"
   ]
  },
  {
   "cell_type": "code",
   "execution_count": 15,
   "metadata": {},
   "outputs": [
    {
     "name": "stdout",
     "output_type": "stream",
     "text": [
      "[1, 2, 3, 4, 5] a\n",
      "False\n"
     ]
    }
   ],
   "source": [
    "a1 = copy.copy(a)\n",
    "a1.number.append(5)\n",
    "a1.name = 'a1'\n",
    "print(a.number,a.name)\n",
    "print(a==a1)"
   ]
  },
  {
   "cell_type": "markdown",
   "metadata": {},
   "source": [
    "从上面可以看出来：\n",
    "1. 浅复制会复制当前对象的副本\n",
    "2. 对原对象的引用对象引用的是同一个"
   ]
  },
  {
   "cell_type": "markdown",
   "metadata": {},
   "source": [
    "# 2.深复制"
   ]
  },
  {
   "cell_type": "code",
   "execution_count": 18,
   "metadata": {},
   "outputs": [
    {
     "name": "stdout",
     "output_type": "stream",
     "text": [
      "[1, 2, 3, 4] b\n"
     ]
    }
   ],
   "source": [
    "class B:\n",
    "    def __init__(self,name,number):\n",
    "        self.name = name\n",
    "        self.number = number # list\n",
    "l = [1,2,3,4]\n",
    "b = B('b',l)\n",
    "print(b.number,b.name)"
   ]
  },
  {
   "cell_type": "code",
   "execution_count": 19,
   "metadata": {},
   "outputs": [
    {
     "name": "stdout",
     "output_type": "stream",
     "text": [
      "[1, 2, 3, 4] b\n",
      "[1, 2, 3, 4, 5] b1\n"
     ]
    }
   ],
   "source": [
    "b1 = copy.deepcopy(b)\n",
    "b1.number.append(5)\n",
    "b1.name = 'b1'\n",
    "print(b.number,b.name)\n",
    "print(b1.number,b1.name)"
   ]
  }
 ],
 "metadata": {
  "kernelspec": {
   "display_name": "Python 3",
   "language": "python",
   "name": "python3"
  },
  "language_info": {
   "codemirror_mode": {
    "name": "ipython",
    "version": 3
   },
   "file_extension": ".py",
   "mimetype": "text/x-python",
   "name": "python",
   "nbconvert_exporter": "python",
   "pygments_lexer": "ipython3",
   "version": "3.6.2"
  }
 },
 "nbformat": 4,
 "nbformat_minor": 2
}
