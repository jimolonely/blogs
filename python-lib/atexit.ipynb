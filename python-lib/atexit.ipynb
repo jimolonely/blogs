{
 "cells": [
  {
   "cell_type": "markdown",
   "metadata": {},
   "source": [
    "# atexit"
   ]
  },
  {
   "cell_type": "code",
   "execution_count": 1,
   "metadata": {},
   "outputs": [
    {
     "name": "stdout",
     "output_type": "stream",
     "text": [
      "Help on built-in module atexit:\n",
      "\n",
      "NAME\n",
      "    atexit - allow programmer to define multiple exit functions to be executedupon normal program termination.\n",
      "\n",
      "DESCRIPTION\n",
      "    Two public functions, register and unregister, are defined.\n",
      "\n",
      "FUNCTIONS\n",
      "    register(...)\n",
      "        register(func, *args, **kwargs) -> func\n",
      "        \n",
      "        Register a function to be executed upon normal program termination\n",
      "        \n",
      "            func - function to be called at exit\n",
      "            args - optional arguments to pass to func\n",
      "            kwargs - optional keyword arguments to pass to func\n",
      "        \n",
      "            func is returned to facilitate usage as a decorator.\n",
      "    \n",
      "    unregister(...)\n",
      "        unregister(func) -> None\n",
      "        \n",
      "        Unregister an exit function which was previously registered using\n",
      "        atexit.register\n",
      "        \n",
      "            func - function to be unregistered\n",
      "\n",
      "FILE\n",
      "    (built-in)\n",
      "\n",
      "\n"
     ]
    }
   ],
   "source": [
    "import atexit\n",
    "\n",
    "help(atexit)"
   ]
  },
  {
   "cell_type": "markdown",
   "metadata": {},
   "source": [
    "用于在程序结束时运行"
   ]
  },
  {
   "cell_type": "code",
   "execution_count": 7,
   "metadata": {},
   "outputs": [
    {
     "name": "stdout",
     "output_type": "stream",
     "text": [
      "main\n"
     ]
    }
   ],
   "source": [
    "import atexit\n",
    "\n",
    "def exit1():\n",
    "    print('exit1')\n",
    "\n",
    "# 装饰器注册\n",
    "@atexit.register\n",
    "def exit2():\n",
    "    print('exit2')\n",
    "\n",
    "# 手动注册\n",
    "atexit.register(exit1)\n",
    "\n",
    "# 主程序\n",
    "if __name__=='__main__':\n",
    "    print('main')\n"
   ]
  },
  {
   "cell_type": "markdown",
   "metadata": {},
   "source": [
    "上面程序需在命令行运行：\n",
    "```python\n",
    "[jimo@jimo-pc learn-python-lib]$ python my_atexit.py \n",
    "main\n",
    "exit1\n",
    "exit2\n",
    "```"
   ]
  },
  {
   "cell_type": "markdown",
   "metadata": {},
   "source": [
    "**可看出先注册的后运行**"
   ]
  }
 ],
 "metadata": {
  "kernelspec": {
   "display_name": "Python 3",
   "language": "python",
   "name": "python3"
  },
  "language_info": {
   "codemirror_mode": {
    "name": "ipython",
    "version": 3
   },
   "file_extension": ".py",
   "mimetype": "text/x-python",
   "name": "python",
   "nbconvert_exporter": "python",
   "pygments_lexer": "ipython3",
   "version": "3.6.2"
  }
 },
 "nbformat": 4,
 "nbformat_minor": 2
}
