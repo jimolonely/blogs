{
 "cells": [
  {
   "cell_type": "code",
   "execution_count": 1,
   "metadata": {},
   "outputs": [
    {
     "name": "stdout",
     "output_type": "stream",
     "text": [
      "Help on module bisect:\n",
      "\n",
      "NAME\n",
      "    bisect - Bisection algorithms.\n",
      "\n",
      "MODULE REFERENCE\n",
      "    https://docs.python.org/3.6/library/bisect\n",
      "    \n",
      "    The following documentation is automatically generated from the Python\n",
      "    source files.  It may be incomplete, incorrect or include features that\n",
      "    are considered implementation detail and may vary between Python\n",
      "    implementations.  When in doubt, consult the module reference at the\n",
      "    location listed above.\n",
      "\n",
      "FUNCTIONS\n",
      "    bisect(...)\n",
      "        Alias for bisect_right().\n",
      "    \n",
      "    bisect_left(...)\n",
      "        bisect_left(a, x[, lo[, hi]]) -> index\n",
      "        \n",
      "        Return the index where to insert item x in list a, assuming a is sorted.\n",
      "        \n",
      "        The return value i is such that all e in a[:i] have e < x, and all e in\n",
      "        a[i:] have e >= x.  So if x already appears in the list, i points just\n",
      "        before the leftmost x already there.\n",
      "        \n",
      "        Optional args lo (default 0) and hi (default len(a)) bound the\n",
      "        slice of a to be searched.\n",
      "    \n",
      "    bisect_right(...)\n",
      "        bisect_right(a, x[, lo[, hi]]) -> index\n",
      "        \n",
      "        Return the index where to insert item x in list a, assuming a is sorted.\n",
      "        \n",
      "        The return value i is such that all e in a[:i] have e <= x, and all e in\n",
      "        a[i:] have e > x.  So if x already appears in the list, i points just\n",
      "        beyond the rightmost x already there\n",
      "        \n",
      "        Optional args lo (default 0) and hi (default len(a)) bound the\n",
      "        slice of a to be searched.\n",
      "    \n",
      "    insort(...)\n",
      "        Alias for insort_right().\n",
      "    \n",
      "    insort_left(...)\n",
      "        insort_left(a, x[, lo[, hi]])\n",
      "        \n",
      "        Insert item x in list a, and keep it sorted assuming a is sorted.\n",
      "        \n",
      "        If x is already in a, insert it to the left of the leftmost x.\n",
      "        \n",
      "        Optional args lo (default 0) and hi (default len(a)) bound the\n",
      "        slice of a to be searched.\n",
      "    \n",
      "    insort_right(...)\n",
      "        insort_right(a, x[, lo[, hi]])\n",
      "        \n",
      "        Insert item x in list a, and keep it sorted assuming a is sorted.\n",
      "        \n",
      "        If x is already in a, insert it to the right of the rightmost x.\n",
      "        \n",
      "        Optional args lo (default 0) and hi (default len(a)) bound the\n",
      "        slice of a to be searched.\n",
      "\n",
      "FILE\n",
      "    /usr/lib/python3.6/bisect.py\n",
      "\n",
      "\n"
     ]
    }
   ],
   "source": [
    "import bisect\n",
    "\n",
    "help(bisect)"
   ]
  },
  {
   "cell_type": "markdown",
   "metadata": {},
   "source": [
    "## bisect\n",
    "一个关于二分查找和插入的库"
   ]
  },
  {
   "cell_type": "markdown",
   "metadata": {},
   "source": [
    "### 1.二分查找"
   ]
  },
  {
   "cell_type": "code",
   "execution_count": 3,
   "metadata": {},
   "outputs": [
    {
     "name": "stdout",
     "output_type": "stream",
     "text": [
      "[0, 1, 2, 3, 4, 5, 6, 7, 8, 9]\n"
     ]
    }
   ],
   "source": [
    "a = list(range(10))\n",
    "print(a)"
   ]
  },
  {
   "cell_type": "code",
   "execution_count": 4,
   "metadata": {},
   "outputs": [
    {
     "data": {
      "text/plain": [
       "4"
      ]
     },
     "execution_count": 4,
     "metadata": {},
     "output_type": "execute_result"
    }
   ],
   "source": [
    "bisect.bisect(a,3) # 查找3"
   ]
  },
  {
   "cell_type": "code",
   "execution_count": 5,
   "metadata": {},
   "outputs": [
    {
     "data": {
      "text/plain": [
       "3"
      ]
     },
     "execution_count": 5,
     "metadata": {},
     "output_type": "execute_result"
    }
   ],
   "source": [
    "bisect.bisect_left(a,3)"
   ]
  },
  {
   "cell_type": "code",
   "execution_count": 6,
   "metadata": {},
   "outputs": [
    {
     "data": {
      "text/plain": [
       "4"
      ]
     },
     "execution_count": 6,
     "metadata": {},
     "output_type": "execute_result"
    }
   ],
   "source": [
    "bisect.bisect_right(a,3)"
   ]
  },
  {
   "cell_type": "code",
   "execution_count": 7,
   "metadata": {},
   "outputs": [
    {
     "data": {
      "text/plain": [
       "10"
      ]
     },
     "execution_count": 7,
     "metadata": {},
     "output_type": "execute_result"
    }
   ],
   "source": [
    "bisect.bisect(a,10)"
   ]
  },
  {
   "cell_type": "markdown",
   "metadata": {},
   "source": [
    "### 2.二分插入"
   ]
  },
  {
   "cell_type": "code",
   "execution_count": 15,
   "metadata": {},
   "outputs": [
    {
     "name": "stdout",
     "output_type": "stream",
     "text": [
      "[0, 2, 4, 6, 8, 10, 12, 14, 16, 18]\n"
     ]
    }
   ],
   "source": [
    "a = list(range(0,20,2))\n",
    "print(a)"
   ]
  },
  {
   "cell_type": "code",
   "execution_count": 16,
   "metadata": {},
   "outputs": [
    {
     "name": "stdout",
     "output_type": "stream",
     "text": [
      "[0, 1, 2, 4, 6, 8, 10, 12, 14, 16, 18]\n"
     ]
    }
   ],
   "source": [
    "bisect.insort(a,1)\n",
    "print(a)"
   ]
  },
  {
   "cell_type": "code",
   "execution_count": 17,
   "metadata": {},
   "outputs": [
    {
     "name": "stdout",
     "output_type": "stream",
     "text": [
      "[0, 1, 2, 3, 4, 6, 8, 10, 12, 14, 16, 18]\n"
     ]
    }
   ],
   "source": [
    "bisect.insort_left(a,3)\n",
    "print(a)"
   ]
  },
  {
   "cell_type": "code",
   "execution_count": 18,
   "metadata": {},
   "outputs": [
    {
     "name": "stdout",
     "output_type": "stream",
     "text": [
      "[0, 1, 2, 3, 3, 4, 6, 8, 10, 12, 14, 16, 18]\n"
     ]
    }
   ],
   "source": [
    "bisect.insort_right(a,3)\n",
    "print(a)"
   ]
  }
 ],
 "metadata": {
  "kernelspec": {
   "display_name": "Python 3",
   "language": "python",
   "name": "python3"
  },
  "language_info": {
   "codemirror_mode": {
    "name": "ipython",
    "version": 3
   },
   "file_extension": ".py",
   "mimetype": "text/x-python",
   "name": "python",
   "nbconvert_exporter": "python",
   "pygments_lexer": "ipython3",
   "version": "3.6.2"
  }
 },
 "nbformat": 4,
 "nbformat_minor": 2
}
