{
 "cells": [
  {
   "cell_type": "markdown",
   "metadata": {},
   "source": [
    "# concurrent并发包"
   ]
  },
  {
   "cell_type": "code",
   "execution_count": 2,
   "metadata": {},
   "outputs": [
    {
     "name": "stdout",
     "output_type": "stream",
     "text": [
      "Help on package concurrent:\n",
      "\n",
      "NAME\n",
      "    concurrent - # This directory is a Python package.\n",
      "\n",
      "MODULE REFERENCE\n",
      "    https://docs.python.org/3.6/library/concurrent\n",
      "    \n",
      "    The following documentation is automatically generated from the Python\n",
      "    source files.  It may be incomplete, incorrect or include features that\n",
      "    are considered implementation detail and may vary between Python\n",
      "    implementations.  When in doubt, consult the module reference at the\n",
      "    location listed above.\n",
      "\n",
      "PACKAGE CONTENTS\n",
      "    futures (package)\n",
      "\n",
      "FILE\n",
      "    /usr/lib/python3.6/concurrent/__init__.py\n",
      "\n",
      "\n"
     ]
    }
   ],
   "source": [
    "import concurrent\n",
    "help(concurrent)"
   ]
  },
  {
   "cell_type": "code",
   "execution_count": 6,
   "metadata": {},
   "outputs": [
    {
     "name": "stdout",
     "output_type": "stream",
     "text": [
      "Help on package concurrent.futures in concurrent:\n",
      "\n",
      "NAME\n",
      "    concurrent.futures - Execute computations asynchronously using threads or processes.\n",
      "\n",
      "MODULE REFERENCE\n",
      "    https://docs.python.org/3.6/library/concurrent.futures\n",
      "    \n",
      "    The following documentation is automatically generated from the Python\n",
      "    source files.  It may be incomplete, incorrect or include features that\n",
      "    are considered implementation detail and may vary between Python\n",
      "    implementations.  When in doubt, consult the module reference at the\n",
      "    location listed above.\n",
      "\n",
      "PACKAGE CONTENTS\n",
      "    _base\n",
      "    process\n",
      "    thread\n",
      "\n",
      "DATA\n",
      "    ALL_COMPLETED = 'ALL_COMPLETED'\n",
      "    FIRST_COMPLETED = 'FIRST_COMPLETED'\n",
      "    FIRST_EXCEPTION = 'FIRST_EXCEPTION'\n",
      "\n",
      "AUTHOR\n",
      "    Brian Quinlan (brian@sweetapp.com)\n",
      "\n",
      "FILE\n",
      "    /usr/lib/python3.6/concurrent/futures/__init__.py\n",
      "\n",
      "\n"
     ]
    }
   ],
   "source": [
    "help(concurrent.futures)"
   ]
  },
  {
   "cell_type": "code",
   "execution_count": 9,
   "metadata": {},
   "outputs": [
    {
     "name": "stdout",
     "output_type": "stream",
     "text": [
      "Help on module concurrent.futures.thread in concurrent.futures:\n",
      "\n",
      "NAME\n",
      "    concurrent.futures.thread - Implements ThreadPoolExecutor.\n",
      "\n",
      "MODULE REFERENCE\n",
      "    https://docs.python.org/3.6/library/concurrent.futures.thread\n",
      "    \n",
      "    The following documentation is automatically generated from the Python\n",
      "    source files.  It may be incomplete, incorrect or include features that\n",
      "    are considered implementation detail and may vary between Python\n",
      "    implementations.  When in doubt, consult the module reference at the\n",
      "    location listed above.\n",
      "\n",
      "CLASSES\n",
      "    concurrent.futures._base.Executor(builtins.object)\n",
      "        ThreadPoolExecutor\n",
      "    \n",
      "    class ThreadPoolExecutor(concurrent.futures._base.Executor)\n",
      "     |  This is an abstract base class for concrete asynchronous executors.\n",
      "     |  \n",
      "     |  Method resolution order:\n",
      "     |      ThreadPoolExecutor\n",
      "     |      concurrent.futures._base.Executor\n",
      "     |      builtins.object\n",
      "     |  \n",
      "     |  Methods defined here:\n",
      "     |  \n",
      "     |  __init__(self, max_workers=None, thread_name_prefix='')\n",
      "     |      Initializes a new ThreadPoolExecutor instance.\n",
      "     |      \n",
      "     |      Args:\n",
      "     |          max_workers: The maximum number of threads that can be used to\n",
      "     |              execute the given calls.\n",
      "     |          thread_name_prefix: An optional name prefix to give our threads.\n",
      "     |  \n",
      "     |  shutdown(self, wait=True)\n",
      "     |      Clean-up the resources associated with the Executor.\n",
      "     |      \n",
      "     |      It is safe to call this method several times. Otherwise, no other\n",
      "     |      methods can be called after this one.\n",
      "     |      \n",
      "     |      Args:\n",
      "     |          wait: If True then shutdown will not return until all running\n",
      "     |              futures have finished executing and the resources used by the\n",
      "     |              executor have been reclaimed.\n",
      "     |  \n",
      "     |  submit(self, fn, *args, **kwargs)\n",
      "     |      Submits a callable to be executed with the given arguments.\n",
      "     |      \n",
      "     |      Schedules the callable to be executed as fn(*args, **kwargs) and returns\n",
      "     |      a Future instance representing the execution of the callable.\n",
      "     |      \n",
      "     |      Returns:\n",
      "     |          A Future representing the given call.\n",
      "     |  \n",
      "     |  ----------------------------------------------------------------------\n",
      "     |  Methods inherited from concurrent.futures._base.Executor:\n",
      "     |  \n",
      "     |  __enter__(self)\n",
      "     |  \n",
      "     |  __exit__(self, exc_type, exc_val, exc_tb)\n",
      "     |  \n",
      "     |  map(self, fn, *iterables, timeout=None, chunksize=1)\n",
      "     |      Returns an iterator equivalent to map(fn, iter).\n",
      "     |      \n",
      "     |      Args:\n",
      "     |          fn: A callable that will take as many arguments as there are\n",
      "     |              passed iterables.\n",
      "     |          timeout: The maximum number of seconds to wait. If None, then there\n",
      "     |              is no limit on the wait time.\n",
      "     |          chunksize: The size of the chunks the iterable will be broken into\n",
      "     |              before being passed to a child process. This argument is only\n",
      "     |              used by ProcessPoolExecutor; it is ignored by\n",
      "     |              ThreadPoolExecutor.\n",
      "     |      \n",
      "     |      Returns:\n",
      "     |          An iterator equivalent to: map(func, *iterables) but the calls may\n",
      "     |          be evaluated out-of-order.\n",
      "     |      \n",
      "     |      Raises:\n",
      "     |          TimeoutError: If the entire result iterator could not be generated\n",
      "     |              before the given timeout.\n",
      "     |          Exception: If fn(*args) raises for any values.\n",
      "     |  \n",
      "     |  ----------------------------------------------------------------------\n",
      "     |  Data descriptors inherited from concurrent.futures._base.Executor:\n",
      "     |  \n",
      "     |  __dict__\n",
      "     |      dictionary for instance variables (if defined)\n",
      "     |  \n",
      "     |  __weakref__\n",
      "     |      list of weak references to the object (if defined)\n",
      "\n",
      "AUTHOR\n",
      "    Brian Quinlan (brian@sweetapp.com)\n",
      "\n",
      "FILE\n",
      "    /usr/lib/python3.6/concurrent/futures/thread.py\n",
      "\n",
      "\n"
     ]
    }
   ],
   "source": [
    "#help(concurrent.futures.process)\n",
    "# 以thread为例，进程差不多\n",
    "help(concurrent.futures.thread)"
   ]
  },
  {
   "cell_type": "markdown",
   "metadata": {},
   "source": [
    "# 1.Executor"
   ]
  },
  {
   "cell_type": "markdown",
   "metadata": {},
   "source": [
    "Executor是一个抽象类，它不能被直接使用。它为具体的异步执行定义了一些基本的方法。 \n",
    "ThreadPoolExecutor和ProcessPoolExecutor继承了Executor，分别被用来创建线程池和进程池的代码。"
   ]
  },
  {
   "cell_type": "code",
   "execution_count": 11,
   "metadata": {},
   "outputs": [
    {
     "name": "stdout",
     "output_type": "stream",
     "text": [
      "Help on class Executor in module concurrent.futures._base:\n",
      "\n",
      "class Executor(builtins.object)\n",
      " |  This is an abstract base class for concrete asynchronous executors.\n",
      " |  \n",
      " |  Methods defined here:\n",
      " |  \n",
      " |  __enter__(self)\n",
      " |  \n",
      " |  __exit__(self, exc_type, exc_val, exc_tb)\n",
      " |  \n",
      " |  map(self, fn, *iterables, timeout=None, chunksize=1)\n",
      " |      Returns an iterator equivalent to map(fn, iter).\n",
      " |      \n",
      " |      Args:\n",
      " |          fn: A callable that will take as many arguments as there are\n",
      " |              passed iterables.\n",
      " |          timeout: The maximum number of seconds to wait. If None, then there\n",
      " |              is no limit on the wait time.\n",
      " |          chunksize: The size of the chunks the iterable will be broken into\n",
      " |              before being passed to a child process. This argument is only\n",
      " |              used by ProcessPoolExecutor; it is ignored by\n",
      " |              ThreadPoolExecutor.\n",
      " |      \n",
      " |      Returns:\n",
      " |          An iterator equivalent to: map(func, *iterables) but the calls may\n",
      " |          be evaluated out-of-order.\n",
      " |      \n",
      " |      Raises:\n",
      " |          TimeoutError: If the entire result iterator could not be generated\n",
      " |              before the given timeout.\n",
      " |          Exception: If fn(*args) raises for any values.\n",
      " |  \n",
      " |  shutdown(self, wait=True)\n",
      " |      Clean-up the resources associated with the Executor.\n",
      " |      \n",
      " |      It is safe to call this method several times. Otherwise, no other\n",
      " |      methods can be called after this one.\n",
      " |      \n",
      " |      Args:\n",
      " |          wait: If True then shutdown will not return until all running\n",
      " |              futures have finished executing and the resources used by the\n",
      " |              executor have been reclaimed.\n",
      " |  \n",
      " |  submit(self, fn, *args, **kwargs)\n",
      " |      Submits a callable to be executed with the given arguments.\n",
      " |      \n",
      " |      Schedules the callable to be executed as fn(*args, **kwargs) and returns\n",
      " |      a Future instance representing the execution of the callable.\n",
      " |      \n",
      " |      Returns:\n",
      " |          A Future representing the given call.\n",
      " |  \n",
      " |  ----------------------------------------------------------------------\n",
      " |  Data descriptors defined here:\n",
      " |  \n",
      " |  __dict__\n",
      " |      dictionary for instance variables (if defined)\n",
      " |  \n",
      " |  __weakref__\n",
      " |      list of weak references to the object (if defined)\n",
      "\n"
     ]
    }
   ],
   "source": [
    "help(concurrent.futures._base.Executor)"
   ]
  },
  {
   "cell_type": "markdown",
   "metadata": {},
   "source": [
    "# 2.submit()"
   ]
  },
  {
   "cell_type": "markdown",
   "metadata": {},
   "source": [
    "Executor中定义了submit()方法，这个方法的作用是提交一个可执行的回调task，并返回一个future实例。future对象代表的就是给定的调用。 \n",
    "通过下面的例子来理解submit对线程池/进程池的操作:"
   ]
  },
  {
   "cell_type": "code",
   "execution_count": 13,
   "metadata": {},
   "outputs": [
    {
     "name": "stdout",
     "output_type": "stream",
     "text": [
      "False\n",
      "True\n",
      "jimo\n",
      "lonely\n"
     ]
    }
   ],
   "source": [
    "from concurrent.futures import ThreadPoolExecutor\n",
    "import time\n",
    "\n",
    "def get_future(msg):\n",
    "    time.sleep(2)\n",
    "    return msg\n",
    "\n",
    "# 创建线程池\n",
    "pool = ThreadPoolExecutor(max_workers=2)\n",
    "\n",
    "f1 = pool.submit(get_future,'jimo')\n",
    "f2 = pool.submit(get_future,'lonely')\n",
    "\n",
    "print(f1.done())\n",
    "time.sleep(2)\n",
    "print(f2.done())\n",
    "\n",
    "print(f1.result())\n",
    "print(f2.result())"
   ]
  },
  {
   "cell_type": "markdown",
   "metadata": {},
   "source": [
    "# 3.map()"
   ]
  },
  {
   "cell_type": "markdown",
   "metadata": {},
   "source": [
    "除了submit，Exectuor还为我们提供了map方法，这个方法返回一个map(func, *iterables)迭代器，迭代器中的回调执行返回的结果有序的。可以通过下面的例子来理解："
   ]
  },
  {
   "cell_type": "code",
   "execution_count": 14,
   "metadata": {},
   "outputs": [
    {
     "name": "stdout",
     "output_type": "stream",
     "text": [
      "http://www.baidu.com/ 2381\n",
      "http://www.sougou.com/ 69853\n",
      "https://www.taobao.com/ 123851\n"
     ]
    }
   ],
   "source": [
    "from concurrent.futures import ThreadPoolExecutor\n",
    "import requests\n",
    "\n",
    "URLS = ['http://www.baidu.com','http://www.sougou.com','http://www.taobao.com']\n",
    "\n",
    "def task(url):\n",
    "    return requests.get(url)\n",
    "\n",
    "pool = ThreadPoolExecutor(max_workers=3)\n",
    "result = pool.map(task,URLS)\n",
    "\n",
    "for r in result :\n",
    "    print(r.url,len(r.content))"
   ]
  },
  {
   "cell_type": "markdown",
   "metadata": {},
   "source": [
    "# 4.Future"
   ]
  },
  {
   "cell_type": "code",
   "execution_count": 15,
   "metadata": {},
   "outputs": [
    {
     "name": "stdout",
     "output_type": "stream",
     "text": [
      "<Future at 0x7f4347eaecf8 state=running> is running\n",
      "<Future at 0x7f4346396048 state=running> is running\n",
      "<Future at 0x7f4346396ba8 state=running> is running\n",
      "<Future at 0x7f4346396ba8 state=finished returned Response>, done, result: http://www.baidu.com/, 2381\n",
      "<Future at 0x7f4347eaecf8 state=finished returned Response>, done, result: http://www.qq.com/, 251165\n",
      "<Future at 0x7f4346396048 state=finished returned Response>, done, result: http://www.sina.com.cn/, 600030\n"
     ]
    }
   ],
   "source": [
    "# coding: utf-8\n",
    "from concurrent.futures import ThreadPoolExecutor as Pool\n",
    "from concurrent.futures import as_completed\n",
    "import requests\n",
    "\n",
    "URLS = ['http://qq.com', 'http://sina.com', 'http://www.baidu.com', ]\n",
    "\n",
    "\n",
    "def task(url, timeout=10):\n",
    "    return requests.get(url, timeout=timeout)\n",
    "\n",
    "\n",
    "with Pool(max_workers=3) as executor:\n",
    "    future_tasks = [executor.submit(task, url) for url in URLS]\n",
    "\n",
    "    for f in future_tasks:\n",
    "        if f.running():\n",
    "            print('%s is running' % str(f))\n",
    "\n",
    "    for f in as_completed(future_tasks):\n",
    "        try:\n",
    "            ret = f.done()\n",
    "            if ret:\n",
    "                f_ret = f.result()\n",
    "                print('%s, done, result: %s, %s' % (str(f), f_ret.url, len(f_ret.content)))\n",
    "        except Exception as e:\n",
    "            f.cancel()\n",
    "            print(str(e))"
   ]
  },
  {
   "cell_type": "code",
   "execution_count": null,
   "metadata": {},
   "outputs": [],
   "source": []
  }
 ],
 "metadata": {
  "kernelspec": {
   "display_name": "Python 3",
   "language": "python",
   "name": "python3"
  },
  "language_info": {
   "codemirror_mode": {
    "name": "ipython",
    "version": 3
   },
   "file_extension": ".py",
   "mimetype": "text/x-python",
   "name": "python",
   "nbconvert_exporter": "python",
   "pygments_lexer": "ipython3",
   "version": "3.6.2"
  }
 },
 "nbformat": 4,
 "nbformat_minor": 2
}
