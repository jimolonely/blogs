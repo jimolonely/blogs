{
 "cells": [
  {
   "cell_type": "markdown",
   "metadata": {},
   "source": [
    "# fnmatch用于匹配UNIX系统文件名的函数"
   ]
  },
  {
   "cell_type": "code",
   "execution_count": 1,
   "metadata": {},
   "outputs": [
    {
     "name": "stdout",
     "output_type": "stream",
     "text": [
      "Help on module fnmatch:\n",
      "\n",
      "NAME\n",
      "    fnmatch - Filename matching with shell patterns.\n",
      "\n",
      "MODULE REFERENCE\n",
      "    https://docs.python.org/3.6/library/fnmatch\n",
      "    \n",
      "    The following documentation is automatically generated from the Python\n",
      "    source files.  It may be incomplete, incorrect or include features that\n",
      "    are considered implementation detail and may vary between Python\n",
      "    implementations.  When in doubt, consult the module reference at the\n",
      "    location listed above.\n",
      "\n",
      "DESCRIPTION\n",
      "    fnmatch(FILENAME, PATTERN) matches according to the local convention.\n",
      "    fnmatchcase(FILENAME, PATTERN) always takes case in account.\n",
      "    \n",
      "    The functions operate by translating the pattern into a regular\n",
      "    expression.  They cache the compiled regular expressions for speed.\n",
      "    \n",
      "    The function translate(PATTERN) returns a regular expression\n",
      "    corresponding to PATTERN.  (It does not compile it.)\n",
      "\n",
      "FUNCTIONS\n",
      "    filter(names, pat)\n",
      "        Return the subset of the list NAMES that match PAT.\n",
      "    \n",
      "    fnmatch(name, pat)\n",
      "        Test whether FILENAME matches PATTERN.\n",
      "        \n",
      "        Patterns are Unix shell style:\n",
      "        \n",
      "        *       matches everything\n",
      "        ?       matches any single character\n",
      "        [seq]   matches any character in seq\n",
      "        [!seq]  matches any char not in seq\n",
      "        \n",
      "        An initial period in FILENAME is not special.\n",
      "        Both FILENAME and PATTERN are first case-normalized\n",
      "        if the operating system requires it.\n",
      "        If you don't want this, use fnmatchcase(FILENAME, PATTERN).\n",
      "    \n",
      "    fnmatchcase(name, pat)\n",
      "        Test whether FILENAME matches PATTERN, including case.\n",
      "        \n",
      "        This is a version of fnmatch() which doesn't case-normalize\n",
      "        its arguments.\n",
      "    \n",
      "    translate(pat)\n",
      "        Translate a shell PATTERN to a regular expression.\n",
      "        \n",
      "        There is no way to quote meta-characters.\n",
      "\n",
      "DATA\n",
      "    __all__ = ['filter', 'fnmatch', 'fnmatchcase', 'translate']\n",
      "\n",
      "FILE\n",
      "    /usr/lib/python3.6/fnmatch.py\n",
      "\n",
      "\n"
     ]
    }
   ],
   "source": [
    "import fnmatch\n",
    "help(fnmatch)"
   ]
  },
  {
   "cell_type": "markdown",
   "metadata": {},
   "source": [
    "## 1.是否匹配"
   ]
  },
  {
   "cell_type": "code",
   "execution_count": 3,
   "metadata": {},
   "outputs": [
    {
     "name": "stdout",
     "output_type": "stream",
     "text": [
      "True\n"
     ]
    }
   ],
   "source": [
    "name = 'helloworld.py'\n",
    "ok =  fnmatch.fnmatch(name,'*.py')\n",
    "print(ok)"
   ]
  },
  {
   "cell_type": "markdown",
   "metadata": {},
   "source": [
    "## 2.匹配所有"
   ]
  },
  {
   "cell_type": "code",
   "execution_count": 5,
   "metadata": {},
   "outputs": [
    {
     "name": "stdout",
     "output_type": "stream",
     "text": [
      "['ab.py', 'ac.py']\n"
     ]
    }
   ],
   "source": [
    "names = ['ab.py','abb.py','abbb.py','bab.py','ac.py']\n",
    "re = fnmatch.filter(names,'a?.py')\n",
    "print(re)"
   ]
  },
  {
   "cell_type": "code",
   "execution_count": 6,
   "metadata": {},
   "outputs": [
    {
     "name": "stdout",
     "output_type": "stream",
     "text": [
      "(?s:.*\\.py)\\Z\n"
     ]
    }
   ],
   "source": [
    "print(fnmatch.translate('*.py'))"
   ]
  }
 ],
 "metadata": {
  "kernelspec": {
   "display_name": "Python 3",
   "language": "python",
   "name": "python3"
  },
  "language_info": {
   "codemirror_mode": {
    "name": "ipython",
    "version": 3
   },
   "file_extension": ".py",
   "mimetype": "text/x-python",
   "name": "python",
   "nbconvert_exporter": "python",
   "pygments_lexer": "ipython3",
   "version": "3.6.2"
  }
 },
 "nbformat": 4,
 "nbformat_minor": 2
}
