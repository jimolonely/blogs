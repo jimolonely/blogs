{
 "cells": [
  {
   "cell_type": "markdown",
   "metadata": {
    "collapsed": true
   },
   "source": [
    "讲解estimator里使用的input_fn,如何自定义自己的数据,来自[https://www.tensorflow.org/get_started/input_fn?hl=zh-cn](https://www.tensorflow.org/get_started/input_fn?hl=zh-cn)"
   ]
  },
  {
   "cell_type": "code",
   "execution_count": 1,
   "metadata": {},
   "outputs": [],
   "source": [
    "import tensorflow as  tf\n",
    "import pandas as pd\n",
    "import numpy as np"
   ]
  },
  {
   "cell_type": "code",
   "execution_count": null,
   "metadata": {},
   "outputs": [],
   "source": [
    "# 回忆用法\n",
    "\n",
    "import numpy as np\n",
    "\n",
    "training_set = tf.contrib.learn.datasets.base.load_csv_with_header(\n",
    "    filename=IRIS_TRAINING, target_dtype=np.int, features_dtype=np.float32)\n",
    "\n",
    "train_input_fn = tf.estimator.inputs.numpy_input_fn(\n",
    "    x={\"x\": np.array(training_set.data)},\n",
    "    y=np.array(training_set.target),\n",
    "    num_epochs=None,\n",
    "    shuffle=True)\n",
    "\n",
    "classifier.train(input_fn=train_input_fn, steps=2000)"
   ]
  },
  {
   "cell_type": "code",
   "execution_count": null,
   "metadata": {},
   "outputs": [],
   "source": [
    "# 自定义输入的内容\n",
    "\n",
    "def my_input_fn():\n",
    "\n",
    "    # Preprocess your data here...\n",
    "\n",
    "    # ...then return 1) a mapping of feature columns to Tensors with\n",
    "    # the corresponding feature data, and 2) a Tensor containing labels\n",
    "    return feature_cols, labels\n",
    "\n",
    "feture_cols:Tensor or SparseTensor\n",
    "labels:Tensor ,预测的结果\n"
   ]
  },
  {
   "cell_type": "code",
   "execution_count": null,
   "metadata": {},
   "outputs": [],
   "source": [
    "# 对于numpy数据\n",
    "\n",
    "# numpy input_fn.\n",
    "my_input_fn = tf.estimator.inputs.numpy_input_fn(\n",
    "    x={\"x\": np.array(x_data)},\n",
    "    y=np.array(y_data),\n",
    "    ...)"
   ]
  },
  {
   "cell_type": "code",
   "execution_count": null,
   "metadata": {},
   "outputs": [],
   "source": [
    "# 对于pandas数据\n",
    "\n",
    "my_input_fn = tf.estimator.inputs.pandas_input_fn(\n",
    "    x=pd.DataFrame({\"x\": x_data}),\n",
    "    y=pd.Series(y_data),\n",
    "    ...)"
   ]
  },
  {
   "cell_type": "code",
   "execution_count": null,
   "metadata": {},
   "outputs": [],
   "source": [
    "# 对于稀疏矩阵\n",
    "\n",
    "# indices:非0的位置,values:对应的值,dense_shape:矩阵维数\n",
    "sparse_tensor = tf.SparseTensor(indices=[[0,1], [2,4]],\n",
    "                                values=[6, 0.5],\n",
    "                                dense_shape=[3, 5])\n",
    "# 表示的是这样的矩阵:\n",
    "[[0, 6, 0, 0, 0]\n",
    " [0, 0, 0, 0, 0]\n",
    " [0, 0, 0, 0, 0.5]]"
   ]
  },
  {
   "cell_type": "code",
   "execution_count": null,
   "metadata": {},
   "outputs": [],
   "source": [
    "# 传递数据的方式\n",
    "\n",
    "# 默认需要传递一个函数对象:\n",
    "classifier.train(input_fn=my_input_fn, steps=2000)\n",
    "# 但这样没有参数,且下面这样是不行的:\n",
    "classifier.train(input_fn=my_input_fn(training_set), steps=2000)\n",
    "\n",
    "# 解决办法有3种:\n",
    "\n",
    "# 1.装饰器\n",
    "def my_input_fn(data_set):\n",
    "  ...\n",
    "\n",
    "def my_input_fn_training_set():\n",
    "  return my_input_fn(training_set)\n",
    "\n",
    "classifier.train(input_fn=my_input_fn_training_set, steps=2000)\n",
    "\n",
    "# 2.functools.partial\n",
    "classifier.train(\n",
    "    input_fn=functools.partial(my_input_fn, data_set=training_set),\n",
    "    steps=2000)\n",
    "\n",
    "# 3.lambda表达式\n",
    "classifier.train(input_fn=lambda: my_input_fn(training_set), steps=2000)"
   ]
  },
  {
   "cell_type": "markdown",
   "metadata": {},
   "source": [
    "具体的例子看[下一节](https://github.com/jimolonely/python-project/blob/master/learn-tensorflow/12-house-price-predict.ipynb)"
   ]
  }
 ],
 "metadata": {
  "kernelspec": {
   "display_name": "Python 2",
   "language": "python",
   "name": "python2"
  },
  "language_info": {
   "codemirror_mode": {
    "name": "ipython",
    "version": 2
   },
   "file_extension": ".py",
   "mimetype": "text/x-python",
   "name": "python",
   "nbconvert_exporter": "python",
   "pygments_lexer": "ipython2",
   "version": "2.7.6"
  }
 },
 "nbformat": 4,
 "nbformat_minor": 0
}
