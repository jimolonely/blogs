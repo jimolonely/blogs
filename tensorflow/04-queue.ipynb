{
 "cells": [
  {
   "cell_type": "markdown",
   "metadata": {},
   "source": [
    "# 队列与线程"
   ]
  },
  {
   "cell_type": "code",
   "execution_count": 1,
   "metadata": {},
   "outputs": [],
   "source": [
    "import tensorflow as tf"
   ]
  },
  {
   "cell_type": "markdown",
   "metadata": {},
   "source": [
    "## 1.队列"
   ]
  },
  {
   "cell_type": "markdown",
   "metadata": {},
   "source": [
    "### 1.1 FIFOQueue"
   ]
  },
  {
   "cell_type": "code",
   "execution_count": 2,
   "metadata": {},
   "outputs": [
    {
     "name": "stdout",
     "output_type": "stream",
     "text": [
      "0.3\n",
      "1.1\n",
      "1.2\n"
     ]
    }
   ],
   "source": [
    "q = tf.FIFOQueue(3,'float')\n",
    "init = q.enqueue_many(([0.1,0.2,0.3],))\n",
    "x = q.dequeue()\n",
    "y = x + 1\n",
    "q_inc = q.enqueue([y])\n",
    "\n",
    "with tf.Session() as sess:\n",
    "    sess.run(init)\n",
    "    quelen = sess.run(q.size())\n",
    "    for i in range(2):\n",
    "        sess.run(q_inc)\n",
    "    quelen = sess.run(q.size())\n",
    "    for i in range(quelen):\n",
    "        print(sess.run(q.dequeue()))"
   ]
  },
  {
   "cell_type": "markdown",
   "metadata": {},
   "source": [
    "### 1.2 RandomShuffleQueue"
   ]
  },
  {
   "cell_type": "code",
   "execution_count": 4,
   "metadata": {},
   "outputs": [
    {
     "name": "stdout",
     "output_type": "stream",
     "text": [
      "3.0\n",
      "0.0\n",
      "5.0\n",
      "6.0\n",
      "8.0\n",
      "1.0\n",
      "7.0\n",
      "9.0\n"
     ]
    }
   ],
   "source": [
    "# 最小长度为2\n",
    "q = tf.RandomShuffleQueue(capacity=10,min_after_dequeue=2,dtypes=\"float\")\n",
    "with tf.Session() as sess:\n",
    "    for i in range(10):\n",
    "        sess.run(q.enqueue(i))\n",
    "    for i in range(8):\n",
    "        print(sess.run(q.dequeue()))"
   ]
  },
  {
   "cell_type": "markdown",
   "metadata": {},
   "source": [
    "**阻断**\n",
    "1. 队列长度等于最小值时出列\n",
    "2. 队列长度等于最大值时入列"
   ]
  },
  {
   "cell_type": "markdown",
   "metadata": {},
   "source": [
    "**解决办法：**可以设置等待时间"
   ]
  },
  {
   "cell_type": "code",
   "execution_count": 5,
   "metadata": {},
   "outputs": [
    {
     "name": "stdout",
     "output_type": "stream",
     "text": [
      "out of range\n"
     ]
    }
   ],
   "source": [
    "run_options = tf.RunOptions(timeout_in_ms=1000) # 等待1s\n",
    "with tf.Session() as sess:\n",
    "    try:\n",
    "        sess.run(q.dequeue(),options=run_options)\n",
    "    except tf.errors.DeadlineExceededError:\n",
    "        print('out of range')"
   ]
  },
  {
   "cell_type": "code",
   "execution_count": null,
   "metadata": {},
   "outputs": [],
   "source": []
  }
 ],
 "metadata": {
  "kernelspec": {
   "display_name": "Python 3",
   "language": "python",
   "name": "python3"
  },
  "language_info": {
   "codemirror_mode": {
    "name": "ipython",
    "version": 3
   },
   "file_extension": ".py",
   "mimetype": "text/x-python",
   "name": "python",
   "nbconvert_exporter": "python",
   "pygments_lexer": "ipython3",
   "version": "3.6.3"
  }
 },
 "nbformat": 4,
 "nbformat_minor": 2
}
