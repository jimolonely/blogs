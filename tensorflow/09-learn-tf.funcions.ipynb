{
 "cells": [
  {
   "cell_type": "markdown",
   "metadata": {
    "collapsed": true
   },
   "source": [
    "## 对一些tensorflow函数的理解"
   ]
  },
  {
   "cell_type": "code",
   "execution_count": 1,
   "metadata": {},
   "outputs": [],
   "source": [
    "import tensorflow as tf"
   ]
  },
  {
   "cell_type": "markdown",
   "metadata": {},
   "source": [
    "### 1. tf.nn.conv2d"
   ]
  },
  {
   "cell_type": "markdown",
   "metadata": {},
   "source": [
    "```python\n",
    "conv2d(input, filter, strides, padding, use_cudnn_on_gpu=None,data_format=None, name=None):\n",
    "  Computes a 2-D convolution given 4-D `input` and `filter` tensors.\n",
    "```"
   ]
  },
  {
   "cell_type": "markdown",
   "metadata": {},
   "source": [
    "将一个4维的input矩阵根据filter矩阵转为2维的矩阵"
   ]
  },
  {
   "cell_type": "code",
   "execution_count": 15,
   "metadata": {},
   "outputs": [
    {
     "name": "stdout",
     "output_type": "stream",
     "text": [
      "(2, 6, 6, 5)\n"
     ]
    }
   ],
   "source": [
    "# input.shape [batch, in_height, in_width, in_channels]\n",
    "# filter.shape [filter_height, filter_width, in_channels, out_channels]\n",
    "# strides = [1, stride, stride, 1]\n",
    "\n",
    "# 对于图片来说，batch是图片的张数，接着图片的宽高，然后是图片颜色的通道（灰色图片为1，RGB为3，RGBA为4）\n",
    "\n",
    "sess = tf.InteractiveSession()\n",
    "\n",
    "input = tf.Variable(tf.random_normal([2,6,6,1]))\n",
    "filter = tf.Variable(tf.random_normal([3,3,1,5]))\n",
    "op = tf.nn.conv2d(input, filter, [1, 1, 1, 1], padding=\"SAME\")\n",
    "\n",
    "sess.run(tf.global_variables_initializer())\n",
    "print(sess.run(op).shape)\n"
   ]
  },
  {
   "cell_type": "markdown",
   "metadata": {},
   "source": [
    "### 2.tf.reshape\n",
    "保证原维数和改变的维数乘积一样,-1有且只能有一个,表示其他维数剩下的维给它."
   ]
  },
  {
   "cell_type": "code",
   "execution_count": 18,
   "metadata": {},
   "outputs": [
    {
     "name": "stdout",
     "output_type": "stream",
     "text": [
      "[[[ 1  2  3  4  5]]\n\n [[ 6  7  8  9 10]]\n\n [[11 12 13 14 15]]]\n"
     ]
    }
   ],
   "source": [
    "t = tf.Variable([1, 2, 3, 4, 5, 6, 7, 8, 9, 10, 11, 12, 13, 14, 15])\n",
    "sess.run(tf.global_variables_initializer())\n",
    "print(sess.run(tf.reshape(t, [3, 1, -1]))) # 1*15 = 3*1*5\n"
   ]
  },
  {
   "cell_type": "code",
   "execution_count": null,
   "metadata": {},
   "outputs": [],
   "source": []
  }
 ],
 "metadata": {
  "kernelspec": {
   "display_name": "Python 2",
   "language": "python",
   "name": "python2"
  },
  "language_info": {
   "codemirror_mode": {
    "name": "ipython",
    "version": 2
   },
   "file_extension": ".py",
   "mimetype": "text/x-python",
   "name": "python",
   "nbconvert_exporter": "python",
   "pygments_lexer": "ipython2",
   "version": "2.7.6"
  }
 },
 "nbformat": 4,
 "nbformat_minor": 0
}
