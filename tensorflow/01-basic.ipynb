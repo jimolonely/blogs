{
 "cells": [
  {
   "cell_type": "markdown",
   "metadata": {},
   "source": [
    "## 激活函数"
   ]
  },
  {
   "cell_type": "code",
   "execution_count": 1,
   "metadata": {},
   "outputs": [],
   "source": [
    "import tensorflow as tf"
   ]
  },
  {
   "cell_type": "code",
   "execution_count": 2,
   "metadata": {},
   "outputs": [],
   "source": [
    "sess = tf.Session()"
   ]
  },
  {
   "cell_type": "markdown",
   "metadata": {},
   "source": [
    "### sigmoid"
   ]
  },
  {
   "cell_type": "code",
   "execution_count": 5,
   "metadata": {},
   "outputs": [
    {
     "name": "stdout",
     "output_type": "stream",
     "text": [
      "[[ 0.26894143  0.11920292]\n",
      " [ 0.5         0.7310586 ]\n",
      " [ 0.7310586   0.88079703]]\n"
     ]
    }
   ],
   "source": [
    "a = tf.constant([[-1.0,-2.0],[0.0,1.0],[1.0,2.0]])\n",
    "print(sess.run(tf.sigmoid(a)))"
   ]
  },
  {
   "cell_type": "markdown",
   "metadata": {},
   "source": [
    "### tanh"
   ]
  },
  {
   "cell_type": "code",
   "execution_count": 8,
   "metadata": {},
   "outputs": [
    {
     "name": "stdout",
     "output_type": "stream",
     "text": [
      "[[-0.76159418 -0.96402758]\n",
      " [ 0.          0.76159418]\n",
      " [ 0.76159418  0.96402758]]\n"
     ]
    }
   ],
   "source": [
    "a = tf.constant([[-1.0,-2.0],[0.0,1.0],[1.0,2.0]])\n",
    "print(sess.run(tf.tanh(a)))"
   ]
  },
  {
   "cell_type": "markdown",
   "metadata": {},
   "source": [
    "### relu"
   ]
  },
  {
   "cell_type": "code",
   "execution_count": 10,
   "metadata": {},
   "outputs": [
    {
     "name": "stdout",
     "output_type": "stream",
     "text": [
      "[[ 0.  0.]\n",
      " [ 0.  1.]\n",
      " [ 1.  2.]]\n"
     ]
    }
   ],
   "source": [
    "a = tf.constant([[-1.0,-2.0],[0.0,1.0],[1.0,2.0]])\n",
    "print(sess.run(tf.nn.relu(a)))"
   ]
  },
  {
   "cell_type": "markdown",
   "metadata": {},
   "source": [
    "### dropout"
   ]
  },
  {
   "cell_type": "code",
   "execution_count": 18,
   "metadata": {},
   "outputs": [
    {
     "name": "stdout",
     "output_type": "stream",
     "text": [
      "[[-2.  0.  0.  8.]]\n",
      "[[-0.  0.  0.  0.]]\n"
     ]
    }
   ],
   "source": [
    "a = tf.constant([[-1.0,2.0,3.0,4.0]])\n",
    "b = tf.nn.dropout(a,0.5,noise_shape=[1,4])\n",
    "print(sess.run(b))\n",
    "b = tf.nn.dropout(a,0.5,noise_shape=[1,1])\n",
    "print(sess.run(b))"
   ]
  },
  {
   "cell_type": "markdown",
   "metadata": {},
   "source": [
    "## 卷积函数"
   ]
  },
  {
   "cell_type": "markdown",
   "metadata": {},
   "source": [
    "等待补充"
   ]
  },
  {
   "cell_type": "markdown",
   "metadata": {},
   "source": [
    "## 池化函数"
   ]
  },
  {
   "cell_type": "markdown",
   "metadata": {},
   "source": [
    "用于减少元素个数"
   ]
  },
  {
   "cell_type": "code",
   "execution_count": 27,
   "metadata": {},
   "outputs": [
    {
     "name": "stdout",
     "output_type": "stream",
     "text": [
      "[10  6  6 10]\n"
     ]
    }
   ],
   "source": [
    "input_data = tf.Variable(np.random.rand(10,6,6,3),dtype=np.float32)\n",
    "filter_data = tf.Variable(np.random.rand(2,2,3,10),dtype=np.float32)\n",
    "\n",
    "y = tf.nn.conv2d(input_data,filter_data,strides=[1,1,1,1],padding='SAME')\n",
    "output = tf.nn.avg_pool(value=y,ksize=[1,2,2,1],strides=[1,1,1,1],padding='SAME')\n",
    "print(sess.run(tf.shape(output))) # shape(output) = (shape(value) - ksize + 1)/strides"
   ]
  },
  {
   "cell_type": "markdown",
   "metadata": {},
   "source": [
    "## 分类函数"
   ]
  },
  {
   "cell_type": "markdown",
   "metadata": {},
   "source": [
    "```python\n",
    "tf.nn.sigmoid_cross_entropy_with_logits\n",
    "tf.nn.softmax\n",
    "tf.nn.log_softmax\n",
    "tf.nn.softmax_cross_entropy_with_logits\n",
    "tf.nn.sparse_softmax_cross_entropy_with_logits\n",
    "```"
   ]
  },
  {
   "cell_type": "code",
   "execution_count": 28,
   "metadata": {},
   "outputs": [],
   "source": [
    "sess.close()"
   ]
  }
 ],
 "metadata": {
  "kernelspec": {
   "display_name": "Python 3",
   "language": "python",
   "name": "python3"
  },
  "language_info": {
   "codemirror_mode": {
    "name": "ipython",
    "version": 3
   },
   "file_extension": ".py",
   "mimetype": "text/x-python",
   "name": "python",
   "nbconvert_exporter": "python",
   "pygments_lexer": "ipython3",
   "version": "3.6.3"
  }
 },
 "nbformat": 4,
 "nbformat_minor": 2
}
