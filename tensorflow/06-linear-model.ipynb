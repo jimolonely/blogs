{
 "cells": [
  {
   "cell_type": "code",
   "execution_count": 1,
   "metadata": {
    "collapsed": true
   },
   "outputs": [],
   "source": [
    "import tensorflow as tf"
   ]
  },
  {
   "cell_type": "code",
   "execution_count": 6,
   "metadata": {},
   "outputs": [
    {
     "name": "stdout",
     "output_type": "stream",
     "text": [
      "W:[ 1.01034117],b:[-0.03040456],loss:0.000154392\n"
     ]
    }
   ],
   "source": [
    "# 准备数据\n",
    "X_train = [1, 2, 3, 4]\n",
    "Y_train = [1, 2, 3, 4]\n",
    "\n",
    "# 模型参数\n",
    "W = tf.Variable([3.0], dtype=tf.float32)\n",
    "b = tf.Variable([0.0], dtype=tf.float32)\n",
    "\n",
    "# 模型输入输出\n",
    "X = tf.placeholder(tf.float32)\n",
    "linear_model = X * W + b\n",
    "y = tf.placeholder(tf.float32)\n",
    "\n",
    "# 损失函数,采用标准差\n",
    "loss = tf.reduce_mean(tf.square(linear_model - y))\n",
    "# 优化器，采用梯度下降\n",
    "optimizer = tf.train.GradientDescentOptimizer(0.01)\n",
    "train = optimizer.minimize(loss)\n",
    "\n",
    "# 模型训练\n",
    "with tf.Session() as sess:\n",
    "    init = tf.global_variables_initializer()\n",
    "    sess.run(init)\n",
    "\n",
    "    for i in range(1000):\n",
    "        sess.run(train, feed_dict={X: X_train, y: Y_train})\n",
    "    #评估结果\n",
    "    curr_w, curr_b, curr_loss = sess.run([W, b, loss], feed_dict={X: X_train, y: Y_train})\n",
    "    print(\"W:%s,b:%s,loss:%s\" % (curr_w, curr_b, curr_loss))\n"
   ]
  }
 ],
 "metadata": {
  "kernelspec": {
   "display_name": "Python 2",
   "language": "python",
   "name": "python2"
  },
  "language_info": {
   "codemirror_mode": {
    "name": "ipython",
    "version": 2
   },
   "file_extension": ".py",
   "mimetype": "text/x-python",
   "name": "python",
   "nbconvert_exporter": "python",
   "pygments_lexer": "ipython2",
   "version": "2.7.6"
  }
 },
 "nbformat": 4,
 "nbformat_minor": 0
}
