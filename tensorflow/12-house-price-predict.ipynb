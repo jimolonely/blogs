{
 "cells": [
  {
   "cell_type": "markdown",
   "metadata": {
    "collapsed": true
   },
   "source": [
    "# 预测房价\n",
    "为了讲解自定义estimator的输入数据"
   ]
  },
  {
   "cell_type": "code",
   "execution_count": 1,
   "metadata": {},
   "outputs": [],
   "source": [
    "import tensorflow as tf\n",
    "import pandas as pd\n",
    "import requests\n",
    "import itertools"
   ]
  },
  {
   "cell_type": "markdown",
   "metadata": {},
   "source": [
    "## 1.下载数据"
   ]
  },
  {
   "cell_type": "code",
   "execution_count": null,
   "metadata": {},
   "outputs": [],
   "source": [
    "TRAIN_URL = \"http://download.tensorflow.org/data/boston_train.csv\"\n",
    "TEST_URL = \"http://download.tensorflow.org/data/boston_test.csv\"\n",
    "PREDICT_URL = \"http://download.tensorflow.org/data/boston_predict.csv\"\n",
    "\n",
    "def download(url):\n",
    "    resp = requests.get(url)\n",
    "    name = url[url.rfind(\"/\") + 1:]\n",
    "    with open('data/' + name, 'wb') as f:\n",
    "        f.write(resp.content)\n",
    "\n",
    "download(TRAIN_URL)\n",
    "download(TEST_URL)\n",
    "download(PREDICT_URL)\n"
   ]
  },
  {
   "cell_type": "code",
   "execution_count": 6,
   "metadata": {},
   "outputs": [
    {
     "name": "stdout",
     "output_type": "stream",
     "text": [
      "       crim   zn  indus    nox     rm   age     dis  tax  ptratio  medv\n0   2.30040  0.0  19.58  0.605  6.319  96.1  2.1000  403     14.7  23.8\n1  13.35980  0.0  18.10  0.693  5.887  94.7  1.7821  666     20.2  12.7\n2   0.12744  0.0   6.91  0.448  6.770   2.9  5.7209  233     17.9  26.6\n      crim    zn  indus    nox     rm   age     dis  tax  ptratio  medv\n0  0.13587   0.0  10.59  0.489  6.064  59.1  4.2392  277     18.6  24.4\n1  0.08664  45.0   3.44  0.437  7.178  26.3  6.4798  398     15.2  36.4\n2  0.26938   0.0   9.90  0.544  6.266  82.8  3.2628  304     18.4  21.6\n      crim    zn  indus    nox     rm   age     dis  tax  ptratio  medv\n0  0.03359  75.0   2.95  0.428  7.024  15.8  5.4011  252     18.3   NaN\n1  5.09017   0.0  18.10  0.713  6.297  91.8  2.3682  666     20.2   NaN\n2  0.12650  25.0   5.13  0.453  6.762  43.4  7.9809  284     19.7   NaN\n"
     ]
    }
   ],
   "source": [
    "# 解析数据\n",
    "\n",
    "COLUMNS = [\"crim\", \"zn\", \"indus\", \"nox\", \"rm\", \"age\",\n",
    "           \"dis\", \"tax\", \"ptratio\", \"medv\"]\n",
    "FEATURES = [\"crim\", \"zn\", \"indus\", \"nox\", \"rm\",\n",
    "            \"age\", \"dis\", \"tax\", \"ptratio\"]\n",
    "LABEL = \"medv\"\n",
    "\n",
    "# skipinitialspace : 忽略分隔符后的空白（默认为False，即不忽略）\n",
    "training_set = pd.read_csv('data/boston_train.csv',skipinitialspace=True,skiprows=1,names=COLUMNS)\n",
    "print(training_set.head(3))\n",
    "test_set = pd.read_csv('data/boston_test.csv',skipinitialspace=True,skiprows=1,names=COLUMNS)\n",
    "print(test_set.head(3))\n",
    "predict_set = pd.read_csv('data/boston_predict.csv',skipinitialspace=True,skiprows=1,names=COLUMNS)\n",
    "print(predict_set.head(3))"
   ]
  },
  {
   "cell_type": "code",
   "execution_count": 7,
   "metadata": {},
   "outputs": [],
   "source": [
    "# 创建feature_cols\n",
    "# 关于更详细的feature_cols,看:https://www.tensorflow.org/tutorials/linear?hl=zh-cn#feature_columns_and_transformations\n",
    "feature_cols = [tf.feature_column.numeric_column(k) for k in FEATURES]"
   ]
  },
  {
   "cell_type": "code",
   "execution_count": 8,
   "metadata": {},
   "outputs": [
    {
     "name": "stdout",
     "output_type": "stream",
     "text": [
      "INFO:tensorflow:Using default config.\n"
     ]
    },
    {
     "name": "stdout",
     "output_type": "stream",
     "text": [
      "INFO:tensorflow:Using config: {'_model_dir': '/tmp/house_model', '_tf_random_seed': 1, '_save_summary_steps': 100, '_save_checkpoints_secs': 600, '_save_checkpoints_steps': None, '_session_config': None, '_keep_checkpoint_max': 5, '_keep_checkpoint_every_n_hours': 10000, '_log_step_count_steps': 100}\n"
     ]
    }
   ],
   "source": [
    "# 初始化回归模型\n",
    "\n",
    "regressor = tf.estimator.DNNRegressor(hidden_units=[10,10],feature_columns=feature_cols,model_dir='/tmp/house_model')"
   ]
  },
  {
   "cell_type": "code",
   "execution_count": 9,
   "metadata": {},
   "outputs": [],
   "source": [
    "# 创建我们的输入函数\n",
    "\n",
    "def my_input_fn(data_set, num_epochs=None, shuffle=True):\n",
    "    return tf.estimator.inputs.pandas_input_fn(\n",
    "        x=pd.DataFrame({k: data_set[k].values for k in FEATURES}),\n",
    "        y=pd.Series(data_set[LABEL].values),\n",
    "        num_epochs=num_epochs,\n",
    "        shuffle=shuffle)\n"
   ]
  },
  {
   "cell_type": "code",
   "execution_count": 12,
   "metadata": {},
   "outputs": [
    {
     "name": "stdout",
     "output_type": "stream",
     "text": [
      "INFO:tensorflow:Create CheckpointSaverHook.\n"
     ]
    },
    {
     "name": "stdout",
     "output_type": "stream",
     "text": [
      "INFO:tensorflow:Restoring parameters from /tmp/house_model/model.ckpt-6000\n"
     ]
    },
    {
     "name": "stdout",
     "output_type": "stream",
     "text": [
      "INFO:tensorflow:Saving checkpoints for 6001 into /tmp/house_model/model.ckpt.\n"
     ]
    },
    {
     "name": "stdout",
     "output_type": "stream",
     "text": [
      "INFO:tensorflow:loss = 2619.21, step = 6001\n"
     ]
    },
    {
     "name": "stdout",
     "output_type": "stream",
     "text": [
      "INFO:tensorflow:global_step/sec: 363.648\n"
     ]
    },
    {
     "name": "stdout",
     "output_type": "stream",
     "text": [
      "INFO:tensorflow:loss = 4094.67, step = 6101 (0.278 sec)\n"
     ]
    },
    {
     "name": "stdout",
     "output_type": "stream",
     "text": [
      "INFO:tensorflow:global_step/sec: 352.822\n"
     ]
    },
    {
     "name": "stdout",
     "output_type": "stream",
     "text": [
      "INFO:tensorflow:loss = 3853.81, step = 6201 (0.280 sec)\n"
     ]
    },
    {
     "name": "stdout",
     "output_type": "stream",
     "text": [
      "INFO:tensorflow:global_step/sec: 405.259\n"
     ]
    },
    {
     "name": "stdout",
     "output_type": "stream",
     "text": [
      "INFO:tensorflow:loss = 4074.71, step = 6301 (0.246 sec)\n"
     ]
    },
    {
     "name": "stdout",
     "output_type": "stream",
     "text": [
      "INFO:tensorflow:global_step/sec: 466.653\n"
     ]
    },
    {
     "name": "stdout",
     "output_type": "stream",
     "text": [
      "INFO:tensorflow:loss = 3825.88, step = 6401 (0.217 sec)\n"
     ]
    },
    {
     "name": "stdout",
     "output_type": "stream",
     "text": [
      "INFO:tensorflow:global_step/sec: 471.589\n"
     ]
    },
    {
     "name": "stdout",
     "output_type": "stream",
     "text": [
      "INFO:tensorflow:loss = 4001.2, step = 6501 (0.209 sec)\n"
     ]
    },
    {
     "name": "stdout",
     "output_type": "stream",
     "text": [
      "INFO:tensorflow:global_step/sec: 466.856\n"
     ]
    },
    {
     "name": "stdout",
     "output_type": "stream",
     "text": [
      "INFO:tensorflow:loss = 6056.1, step = 6601 (0.213 sec)\n"
     ]
    },
    {
     "name": "stdout",
     "output_type": "stream",
     "text": [
      "INFO:tensorflow:global_step/sec: 484.405\n"
     ]
    },
    {
     "name": "stdout",
     "output_type": "stream",
     "text": [
      "INFO:tensorflow:loss = 2652.07, step = 6701 (0.208 sec)\n"
     ]
    },
    {
     "name": "stdout",
     "output_type": "stream",
     "text": [
      "INFO:tensorflow:global_step/sec: 461.722\n"
     ]
    },
    {
     "name": "stdout",
     "output_type": "stream",
     "text": [
      "INFO:tensorflow:loss = 3416.54, step = 6801 (0.216 sec)\n"
     ]
    },
    {
     "name": "stdout",
     "output_type": "stream",
     "text": [
      "INFO:tensorflow:global_step/sec: 471.628\n"
     ]
    },
    {
     "name": "stdout",
     "output_type": "stream",
     "text": [
      "INFO:tensorflow:loss = 3187.12, step = 6901 (0.212 sec)\n"
     ]
    },
    {
     "name": "stdout",
     "output_type": "stream",
     "text": [
      "INFO:tensorflow:Saving checkpoints for 7000 into /tmp/house_model/model.ckpt.\n"
     ]
    },
    {
     "name": "stdout",
     "output_type": "stream",
     "text": [
      "INFO:tensorflow:Loss for final step: 2781.42.\n"
     ]
    },
    {
     "data": {
      "text/plain": [
       "<tensorflow.python.estimator.canned.dnn.DNNRegressor at 0x7feddd2d77f0>"
      ]
     },
     "execution_count": 12,
     "metadata": {},
     "output_type": "execute_result"
    }
   ],
   "source": [
    "# 训练数据\n",
    "\n",
    "regressor.train(input_fn=my_input_fn(training_set),steps=1000)"
   ]
  },
  {
   "cell_type": "code",
   "execution_count": 13,
   "metadata": {},
   "outputs": [
    {
     "name": "stdout",
     "output_type": "stream",
     "text": [
      "INFO:tensorflow:Starting evaluation at 2017-12-08-12:07:27\n"
     ]
    },
    {
     "name": "stdout",
     "output_type": "stream",
     "text": [
      "INFO:tensorflow:Restoring parameters from /tmp/house_model/model.ckpt-7000\n"
     ]
    },
    {
     "name": "stdout",
     "output_type": "stream",
     "text": [
      "INFO:tensorflow:Finished evaluation at 2017-12-08-12:07:27\n"
     ]
    },
    {
     "name": "stdout",
     "output_type": "stream",
     "text": [
      "INFO:tensorflow:Saving dict for global step 7000: average_loss = 11.6127, global_step = 7000, loss = 1161.27\n"
     ]
    },
    {
     "name": "stdout",
     "output_type": "stream",
     "text": [
      "Loss:1161.270752\n"
     ]
    }
   ],
   "source": [
    "# 评估模型\n",
    "\n",
    "ev = regressor.evaluate(input_fn=my_input_fn(test_set,num_epochs=1,shuffle=False))\n",
    "loss = ev[\"loss\"]\n",
    "print(\"Loss:{0:f}\".format(loss))\n"
   ]
  },
  {
   "cell_type": "code",
   "execution_count": 14,
   "metadata": {},
   "outputs": [
    {
     "name": "stdout",
     "output_type": "stream",
     "text": [
      "INFO:tensorflow:Restoring parameters from /tmp/house_model/model.ckpt-7000\n"
     ]
    },
    {
     "name": "stdout",
     "output_type": "stream",
     "text": [
      "Predictions: [array([ 33.66023254], dtype=float32), array([ 17.50827408], dtype=float32), array([ 23.53103447], dtype=float32), array([ 35.09741211], dtype=float32), array([ 15.20833969], dtype=float32), array([ 18.53084373], dtype=float32)]\n"
     ]
    }
   ],
   "source": [
    "# 做预测\n",
    "\n",
    "y = regressor.predict(input_fn=my_input_fn(predict_set, num_epochs=1, shuffle=False))\n",
    "predictions = list(p[\"predictions\"] for p in itertools.islice(y, 6))\n",
    "print(\"Predictions: {}\".format(str(predictions)))"
   ]
  },
  {
   "cell_type": "markdown",
   "metadata": {},
   "source": [
    "# 总结\n",
    "\n",
    "loss的值和官方看起来差了100倍,但预测结果差不多"
   ]
  }
 ],
 "metadata": {
  "kernelspec": {
   "display_name": "Python 2",
   "language": "python",
   "name": "python2"
  },
  "language_info": {
   "codemirror_mode": {
    "name": "ipython",
    "version": 2
   },
   "file_extension": ".py",
   "mimetype": "text/x-python",
   "name": "python",
   "nbconvert_exporter": "python",
   "pygments_lexer": "ipython2",
   "version": "2.7.6"
  }
 },
 "nbformat": 4,
 "nbformat_minor": 0
}
