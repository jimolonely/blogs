{
 "cells": [
  {
   "cell_type": "markdown",
   "metadata": {},
   "source": [
    "来自官方文档：[https://www.tensorflow.org/get_started/mnist/beginners?hl=zh-cn](https://www.tensorflow.org/get_started/mnist/beginners?hl=zh-cn)"
   ]
  },
  {
   "cell_type": "code",
   "execution_count": 2,
   "metadata": {
    "collapsed": true
   },
   "outputs": [],
   "source": [
    "import tensorflow as tf\n",
    "from tensorflow.examples.tutorials.mnist import input_data"
   ]
  },
  {
   "cell_type": "code",
   "execution_count": 3,
   "metadata": {},
   "outputs": [
    {
     "name": "stdout",
     "output_type": "stream",
     "text": [
      "Extracting /home/jimo/workspace/temp/mnist-data/train-images-idx3-ubyte.gz\n"
     ]
    },
    {
     "name": "stdout",
     "output_type": "stream",
     "text": [
      "Extracting /home/jimo/workspace/temp/mnist-data/train-labels-idx1-ubyte.gz\nExtracting /home/jimo/workspace/temp/mnist-data/t10k-images-idx3-ubyte.gz\nExtracting /home/jimo/workspace/temp/mnist-data/t10k-labels-idx1-ubyte.gz\n"
     ]
    }
   ],
   "source": [
    "# 准备数据\n",
    "mnist = input_data.read_data_sets('/home/jimo/workspace/temp/mnist-data',one_hot=True)\n"
   ]
  },
  {
   "cell_type": "code",
   "execution_count": 7,
   "metadata": {},
   "outputs": [],
   "source": [
    "# 准备变量\n",
    "# None代表不知道输入的图片数，784=28*28\n",
    "x = tf.placeholder(tf.float32, [None, 784])\n",
    "W = tf.Variable(tf.zeros([784, 10]))\n",
    "b = tf.Variable(tf.zeros([10]))\n",
    "\n",
    "# 定义模型\n",
    "y = tf.nn.softmax(tf.matmul(x, W) + b) # x的预测值\n",
    "\n",
    "# 定义交叉熵，用于评估模型，熵越大代表越混乱，这里代表结果越差\n",
    "y_ = tf.placeholder(tf.float32, [None, 10])  # x的正确分类值\n",
    "# reduction_indices=[1] 代表求和的时候按y的第2维求\n",
    "# cross_entropy = tf.reduce_mean(-tf.reduce_sum(y_ * tf.log(y), reduction_indices=[1]))\n",
    "# 因为上面的写法不稳定，采用下面的写法\n",
    "cross_entropy = tf.reduce_mean(tf.nn.softmax_cross_entropy_with_logits(labels=y_, logits=y))\n",
    "# 采用梯度下降优化\n",
    "train_step = tf.train.GradientDescentOptimizer(0.5).minimize(cross_entropy)\n"
   ]
  },
  {
   "cell_type": "code",
   "execution_count": 8,
   "metadata": {},
   "outputs": [],
   "source": [
    "sess = tf.InteractiveSession()\n",
    "tf.global_variables_initializer().run()\n",
    "\n",
    "for _ in range(1000):\n",
    "    # 每次随机抽取100张图片训练，毕竟全部训练数据了太大，需要太久\n",
    "    batch_xs, batch_ys = mnist.train.next_batch(100)\n",
    "    sess.run(train_step, feed_dict={x: batch_xs, y_: batch_ys})\n"
   ]
  },
  {
   "cell_type": "code",
   "execution_count": 11,
   "metadata": {},
   "outputs": [
    {
     "name": "stdout",
     "output_type": "stream",
     "text": [
      "0.9073\n"
     ]
    }
   ],
   "source": [
    "# 模型评估\n",
    "# argmax是个池化函数，选取矩阵里指定维数的最大值，equal返回True或False\n",
    "correct_prediction = tf.equal(tf.argmax(y, 1), tf.argmax(y_, 1))\n",
    "# 精度,先转成0和1\n",
    "accuracy = tf.reduce_mean(tf.cast(correct_prediction, tf.float32))\n",
    "# 打印结果\n",
    "result = sess.run(accuracy, feed_dict={x: mnist.test.images, y_: mnist.test.labels})\n",
    "print(result)\n"
   ]
  },
  {
   "cell_type": "markdown",
   "metadata": {},
   "source": [
    "这结果太差了"
   ]
  }
 ],
 "metadata": {
  "kernelspec": {
   "display_name": "Python 2",
   "language": "python",
   "name": "python2"
  },
  "language_info": {
   "codemirror_mode": {
    "name": "ipython",
    "version": 2
   },
   "file_extension": ".py",
   "mimetype": "text/x-python",
   "name": "python",
   "nbconvert_exporter": "python",
   "pygments_lexer": "ipython2",
   "version": "2.7.6"
  }
 },
 "nbformat": 4,
 "nbformat_minor": 0
}
